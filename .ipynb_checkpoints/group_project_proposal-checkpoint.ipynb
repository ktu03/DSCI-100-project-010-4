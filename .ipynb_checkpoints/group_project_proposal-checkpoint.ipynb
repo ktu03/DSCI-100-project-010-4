{
 "cells": [
  {
   "cell_type": "markdown",
   "id": "24273aeb-c00b-47cd-9f5b-efc15bf710b5",
   "metadata": {},
   "source": [
    "# Title: Which variables are good at predicting whether or not someone has heart disease?"
   ]
  },
  {
   "cell_type": "markdown",
   "id": "4e070bfe-953f-43b5-8d03-eb99ea88d69f",
   "metadata": {},
   "source": [
    "## Introduction (Kevin)\n",
    "- Provide some relevant background information on the topic so that someone unfamiliar with it will be prepared to understand the rest of your proposal\n",
    "- Clearly state the question you will try to answer with your project\n",
    "- Identify and describe the dataset that will be used to answer the question\n"
   ]
  },
  {
   "cell_type": "markdown",
   "id": "e95f1331-6a4e-4286-9a0b-4d41b1a35b34",
   "metadata": {},
   "source": [
    "*INTRO TEXT GOES HERE*"
   ]
  },
  {
   "cell_type": "markdown",
   "id": "7fdd0bb1-ff54-4b03-b819-0dfc25b18071",
   "metadata": {},
   "source": [
    "## Preliminary exploratory data analysis (Chloe)\n",
    "- Demonstrate that the dataset can be read from the web into R \n",
    "- Clean and wrangle your data into a tidy format\n",
    "- Using only training data, summarize the data in at least one table (this is exploratory data analysis). An example of a useful table could be one that reports the number of observations in each class, the means of the predictor variables you plan to use in your analysis and how many rows have missing data. \n",
    "- Using only training data, visualize the data with at least one plot relevant to the analysis you plan to do (this is exploratory data analysis). An example of a useful visualization could be one that compares the distributions of each of the predictor variables you plan to use in your analysis."
   ]
  },
  {
   "cell_type": "code",
   "execution_count": 2,
   "id": "4cf4135c-95b1-4eb2-ad15-d0b25fd0bd5f",
   "metadata": {},
   "outputs": [
    {
     "ename": "NameError",
     "evalue": "name 'library' is not defined",
     "output_type": "error",
     "traceback": [
      "\u001b[0;31m---------------------------------------------------------------------------\u001b[0m",
      "\u001b[0;31mNameError\u001b[0m                                 Traceback (most recent call last)",
      "Cell \u001b[0;32mIn[2], line 3\u001b[0m\n\u001b[1;32m      1\u001b[0m \u001b[38;5;66;03m#PRELIMINARY EXPLORATORY DATA ANALYSIS CODE HERE\u001b[39;00m\n\u001b[1;32m      2\u001b[0m \u001b[38;5;66;03m# necessary library\u001b[39;00m\n\u001b[0;32m----> 3\u001b[0m \u001b[43mlibrary\u001b[49m(tidyverse)\n\u001b[1;32m      4\u001b[0m library(readr)\n\u001b[1;32m      5\u001b[0m library(tidymodels)\n",
      "\u001b[0;31mNameError\u001b[0m: name 'library' is not defined"
     ]
    }
   ],
   "source": [
    "#PRELIMINARY EXPLORATORY DATA ANALYSIS CODE HERE\n"
   ]
  },
  {
   "cell_type": "code",
   "execution_count": 1,
   "id": "314e154e-7e1a-41a5-bf23-c8669685ef56",
   "metadata": {},
   "outputs": [
    {
     "name": "stderr",
     "output_type": "stream",
     "text": [
      "── \u001b[1mAttaching core tidyverse packages\u001b[22m ──────────────────────── tidyverse 2.0.0 ──\n",
      "\u001b[32m✔\u001b[39m \u001b[34mdplyr    \u001b[39m 1.1.3     \u001b[32m✔\u001b[39m \u001b[34mreadr    \u001b[39m 2.1.4\n",
      "\u001b[32m✔\u001b[39m \u001b[34mforcats  \u001b[39m 1.0.0     \u001b[32m✔\u001b[39m \u001b[34mstringr  \u001b[39m 1.5.0\n",
      "\u001b[32m✔\u001b[39m \u001b[34mggplot2  \u001b[39m 3.4.4     \u001b[32m✔\u001b[39m \u001b[34mtibble   \u001b[39m 3.2.1\n",
      "\u001b[32m✔\u001b[39m \u001b[34mlubridate\u001b[39m 1.9.3     \u001b[32m✔\u001b[39m \u001b[34mtidyr    \u001b[39m 1.3.0\n",
      "\u001b[32m✔\u001b[39m \u001b[34mpurrr    \u001b[39m 1.0.2     \n",
      "── \u001b[1mConflicts\u001b[22m ────────────────────────────────────────── tidyverse_conflicts() ──\n",
      "\u001b[31m✖\u001b[39m \u001b[34mdplyr\u001b[39m::\u001b[32mfilter()\u001b[39m masks \u001b[34mstats\u001b[39m::filter()\n",
      "\u001b[31m✖\u001b[39m \u001b[34mdplyr\u001b[39m::\u001b[32mlag()\u001b[39m    masks \u001b[34mstats\u001b[39m::lag()\n",
      "\u001b[36mℹ\u001b[39m Use the conflicted package (\u001b[3m\u001b[34m<http://conflicted.r-lib.org/>\u001b[39m\u001b[23m) to force all conflicts to become errors\n",
      "── \u001b[1mAttaching packages\u001b[22m ────────────────────────────────────── tidymodels 1.1.1 ──\n",
      "\n",
      "\u001b[32m✔\u001b[39m \u001b[34mbroom       \u001b[39m 1.0.5     \u001b[32m✔\u001b[39m \u001b[34mrsample     \u001b[39m 1.2.0\n",
      "\u001b[32m✔\u001b[39m \u001b[34mdials       \u001b[39m 1.2.0     \u001b[32m✔\u001b[39m \u001b[34mtune        \u001b[39m 1.1.2\n",
      "\u001b[32m✔\u001b[39m \u001b[34minfer       \u001b[39m 1.0.5     \u001b[32m✔\u001b[39m \u001b[34mworkflows   \u001b[39m 1.1.3\n",
      "\u001b[32m✔\u001b[39m \u001b[34mmodeldata   \u001b[39m 1.2.0     \u001b[32m✔\u001b[39m \u001b[34mworkflowsets\u001b[39m 1.0.1\n",
      "\u001b[32m✔\u001b[39m \u001b[34mparsnip     \u001b[39m 1.1.1     \u001b[32m✔\u001b[39m \u001b[34myardstick   \u001b[39m 1.2.0\n",
      "\u001b[32m✔\u001b[39m \u001b[34mrecipes     \u001b[39m 1.0.8     \n",
      "\n",
      "── \u001b[1mConflicts\u001b[22m ───────────────────────────────────────── tidymodels_conflicts() ──\n",
      "\u001b[31m✖\u001b[39m \u001b[34mscales\u001b[39m::\u001b[32mdiscard()\u001b[39m masks \u001b[34mpurrr\u001b[39m::discard()\n",
      "\u001b[31m✖\u001b[39m \u001b[34mdplyr\u001b[39m::\u001b[32mfilter()\u001b[39m   masks \u001b[34mstats\u001b[39m::filter()\n",
      "\u001b[31m✖\u001b[39m \u001b[34mrecipes\u001b[39m::\u001b[32mfixed()\u001b[39m  masks \u001b[34mstringr\u001b[39m::fixed()\n",
      "\u001b[31m✖\u001b[39m \u001b[34mdplyr\u001b[39m::\u001b[32mlag()\u001b[39m      masks \u001b[34mstats\u001b[39m::lag()\n",
      "\u001b[31m✖\u001b[39m \u001b[34myardstick\u001b[39m::\u001b[32mspec()\u001b[39m masks \u001b[34mreadr\u001b[39m::spec()\n",
      "\u001b[31m✖\u001b[39m \u001b[34mrecipes\u001b[39m::\u001b[32mstep()\u001b[39m   masks \u001b[34mstats\u001b[39m::step()\n",
      "\u001b[34m•\u001b[39m Search for functions across packages at \u001b[32mhttps://www.tidymodels.org/find/\u001b[39m\n",
      "\n"
     ]
    },
    {
     "ename": "ERROR",
     "evalue": "Error: 'data/processed.cleveland.data' does not exist in current working directory ('/home/jovyan/work/DSCI-100-project-010-4/.ipynb_checkpoints').\n",
     "output_type": "error",
     "traceback": [
      "Error: 'data/processed.cleveland.data' does not exist in current working directory ('/home/jovyan/work/DSCI-100-project-010-4/.ipynb_checkpoints').\nTraceback:\n",
      "1. read_csv(\"data/processed.cleveland.data\", col_names = c(\"age\", \n .     \"sex\", \"cp\", \"trestbps\", \"chol\", \"fbs\", \"restecg\", \"thalach\", \n .     \"exang\", \"oldpeak\", \"slope\", \"ca\", \"thal\", \"disease\"), na = \"?\")",
      "2. vroom::vroom(file, delim = \",\", col_names = col_names, col_types = col_types, \n .     col_select = {\n .         {\n .             col_select\n .         }\n .     }, id = id, .name_repair = name_repair, skip = skip, n_max = n_max, \n .     na = na, quote = quote, comment = comment, skip_empty_rows = skip_empty_rows, \n .     trim_ws = trim_ws, escape_double = TRUE, escape_backslash = FALSE, \n .     locale = locale, guess_max = guess_max, show_col_types = show_col_types, \n .     progress = progress, altrep = lazy, num_threads = num_threads)",
      "3. vroom_(file, delim = delim %||% col_types$delim, col_names = col_names, \n .     col_types = col_types, id = id, skip = skip, col_select = col_select, \n .     name_repair = .name_repair, na = na, quote = quote, trim_ws = trim_ws, \n .     escape_double = escape_double, escape_backslash = escape_backslash, \n .     comment = comment, skip_empty_rows = skip_empty_rows, locale = locale, \n .     guess_max = guess_max, n_max = n_max, altrep = vroom_altrep(altrep), \n .     num_threads = num_threads, progress = progress)",
      "4. (function (path, write = FALSE) \n . {\n .     if (is.raw(path)) {\n .         return(rawConnection(path, \"rb\"))\n .     }\n .     if (!is.character(path)) {\n .         return(path)\n .     }\n .     if (is_url(path)) {\n .         if (requireNamespace(\"curl\", quietly = TRUE)) {\n .             con <- curl::curl(path)\n .         }\n .         else {\n .             inform(\"`curl` package not installed, falling back to using `url()`\")\n .             con <- url(path)\n .         }\n .         ext <- tolower(tools::file_ext(path))\n .         return(switch(ext, zip = , bz2 = , xz = {\n .             close(con)\n .             stop(\"Reading from remote `\", ext, \"` compressed files is not supported,\\n\", \n .                 \"  download the files locally first.\", call. = FALSE)\n .         }, gz = gzcon(con), con))\n .     }\n .     path <- enc2utf8(path)\n .     p <- split_path_ext(basename_utf8(path))\n .     if (write) {\n .         path <- normalizePath_utf8(path, mustWork = FALSE)\n .     }\n .     else {\n .         path <- check_path(path)\n .     }\n .     if (is_installed(\"archive\")) {\n .         formats <- archive_formats(p$extension)\n .         extension <- p$extension\n .         while (is.null(formats) && nzchar(extension)) {\n .             extension <- split_path_ext(extension)$extension\n .             formats <- archive_formats(extension)\n .         }\n .         if (!is.null(formats)) {\n .             p$extension <- extension\n .             if (write) {\n .                 if (is.null(formats[[1]])) {\n .                   return(archive::file_write(path, filter = formats[[2]]))\n .                 }\n .                 return(archive::archive_write(path, p$path, format = formats[[1]], \n .                   filter = formats[[2]]))\n .             }\n .             if (is.null(formats[[1]])) {\n .                 return(archive::file_read(path, filter = formats[[2]]))\n .             }\n .             return(archive::archive_read(path, format = formats[[1]], \n .                 filter = formats[[2]]))\n .         }\n .     }\n .     if (!write) {\n .         compression <- detect_compression(path)\n .     }\n .     else {\n .         compression <- NA\n .     }\n .     if (is.na(compression)) {\n .         compression <- tools::file_ext(path)\n .     }\n .     if (write && compression == \"zip\") {\n .         stop(\"Can only read from, not write to, .zip\", call. = FALSE)\n .     }\n .     switch(compression, gz = gzfile(path, \"\"), bz2 = bzfile(path, \n .         \"\"), xz = xzfile(path, \"\"), zip = zipfile(path, \"\"), \n .         if (!has_trailing_newline(path)) {\n .             file(path)\n .         } else {\n .             path\n .         })\n . })(\"data/processed.cleveland.data\")",
      "5. check_path(path)",
      "6. stop(\"'\", path, \"' does not exist\", if (!is_absolute_path(path)) {\n .     paste0(\" in current working directory ('\", getwd(), \"')\")\n . }, \".\", call. = FALSE)"
     ]
    }
   ],
   "source": [
    "# necessary library\n",
    "library(tidyverse)\n",
    "library(readr)\n",
    "library(tidymodels)\n",
    "# read data\n",
    "heart_data <- read_csv(\"data/processed.cleveland.data\", \n",
    "                 col_names = c(\"age\", \"sex\", \"cp\", \"trestbps\", \n",
    "                               \"chol\", \"fbs\", \"restecg\", \"thalach\", \"exang\", \n",
    "                               \"oldpeak\", \"slope\", \"ca\", \"thal\", \"disease\"), na = \"?\")\n",
    "# turn integer to factor (to categorical data)\n",
    "heart_data <- heart_data |>\n",
    "        mutate(sex = as_factor(sex), cp = as_factor(cp), fbs = as_factor(fbs), restecg = as_factor(restecg), \n",
    "               exang = as_factor(exang), slope = as_factor(slope), thal = as_factor(thal), disease = as_factor(disease))\n",
    "\n",
    "head(heart_data)\n",
    "set.seed(888)\n",
    "# split data into training and testing data\n",
    "heart_split <- initial_split(heart_data, prop = 0.75, strata = disease)\n",
    "heart_train <- training(heart_split)\n",
    "heart_test <- testing(heart_split)\n",
    "#locate missing data (training data)\n",
    "train_missing_column <- colSums(is.na(heart_train))\n",
    "locate_missing_train <- which(!complete.cases(heart_train))\n",
    "sum_missing_train <- sum(is.na(heart_train))\n",
    "\n",
    "cat(\"Summary of Missing Data in Training Data \")\n",
    "cat(\"Number of Missing Data in Each Column: \\n\")\n",
    "train_missing_column\n",
    "cat(\"Location of Rows That Have Missing Data: \", locate_missing_train, \"\\n\")\n",
    "cat(\"Number of Rows That have Missing Data: \", sum_missing_train)\n",
    "# Frequency of Each Class\n",
    "cat(\"Frequency of Each Class (0 = Healthy, 1-4 = Sick): \\n\")\n",
    "table(heart_data$disease)\n",
    "#Proportion of Each Class\n",
    "cat(\"Proportion of Each Class (0 = Healthy, 1-4 = Sick): \\n\")\n",
    "prop.table(table(heart_data$disease))\n",
    "# Visualization (boxplots)\n",
    "#compare thalach \n",
    "thalach_boxplot <- heart_train |>\n",
    "  ggplot(aes(x = disease, y = thalach, group = disease)) +\n",
    "  geom_boxplot(aes(fill = disease)) +\n",
    "  labs(title = \"Compare Maximum Heart Rate Achieved\",\n",
    "       x = \"Diagnosis of Heart Disease\", \n",
    "       y = \"Maximum Heart Rate Achieved\",\n",
    "       fill = \"Diagnosis of Heart Disease\") +\n",
    "       theme(text = element_text(size = 15))\n",
    "thalach_boxplot\n",
    "\n",
    "cat(\"The box-plots does not overlap, maximum heart rate achieved is statistical significant in determine heart disease.\")\n",
    "\n",
    "\n",
    "#compare serum cholestoral level between sick or not\n",
    "chol_boxplot <- heart_train |>\n",
    "  ggplot(aes(x = disease, y = chol, group = disease)) +\n",
    "  geom_boxplot(aes(fill = disease)) +\n",
    "  labs(title = \"Compare Serum Cholesterol Level (mg/dl)\",\n",
    "       x = \"Diagnosis of Heart Disease\",\n",
    "       y = \"Serum Cholesterol Level\",\n",
    "       fill = \"Diagnosis of Heart Disease\") +\n",
    "       theme(text = element_text(size = 15))\n",
    "chol_boxplot\n",
    "\n",
    "cat(\"The box-plots overlap, serum cholestoral level is not statistical significant in determine heart disease.\")\n",
    "\n",
    "#compare ST depression induced by exercise relative to rest between sick or not\n",
    "oldpeak_boxplot <- heart_train |>\n",
    "  ggplot(aes(x = disease, y = oldpeak, group = disease)) +\n",
    "  geom_boxplot(aes(fill = disease)) +\n",
    "  labs(title = \"Compare Depression Induced by Exercise Relative to Rest\",\n",
    "       x = \"Diagnosis of Heart Disease\",\n",
    "       y = \"Depression Induced by Exercise\",\n",
    "       fill = \"Diagnosis of Heart Disease\") +\n",
    "       theme(text = element_text(size = 15))\n",
    "oldpeak_boxplot\n",
    "\n",
    "cat(\"The box-plots do not overlap, depression induced by exercise relative to rest is statistical significant in determine heart disease.\")\n",
    "\n",
    "trestbps_boxplot <- heart_train |>\n",
    "  ggplot(aes(x = disease, y = trestbps, group = disease)) +\n",
    "  geom_boxplot(aes(fill = disease)) +\n",
    "  labs(title = \"Compare Resting Blood Pressure\",\n",
    "       x = \"Diagnosis of Heart Disease\",\n",
    "       y = \"Compare Resting Blood Pressure (mm/Hg)\",\n",
    "       fill = \"Diagnosis of Heart Disease\") +\n",
    "       theme(text = element_text(size = 15))\n",
    "trestbps_boxplot\n",
    "\n",
    "cat(\"The box-plots overlap, resting blood pressure  is not statistical significant in determine heart disease.\")\n",
    "# Visualization (boxplots)\n",
    "prop_heart <- heart_train|>\n",
    "    group_by(disease) |>\n",
    "    summarize(prop_exang = mean(exang == 1), prop_fbs = mean(fbs == 1))\n",
    "head(prop_heart)\n",
    "exang_bar <- prop_heart |>\n",
    "  ggplot(aes(x = disease, y = prop_exang, fill = disease)) +\n",
    "  geom_bar(stat = \"identity\") +\n",
    "  labs(title = \"Compare Proportion Exercise Induced Angina\",\n",
    "       x = \"Exercise Induced Angina\", \n",
    "       y = \"Proportion\",\n",
    "       fill = \"Diagnosis of Heart Disease\") +\n",
    "       theme(text = element_text(size = 15))\n",
    "exang_bar\n",
    "\n",
    "cat(\"The proportion of people who has exercise induced angina is generally higher in groups of people who has heart disease\")\n",
    "\n",
    "fbs_bar <- prop_heart |>\n",
    "  ggplot(aes(x = disease, y = prop_fbs, fill = disease)) +\n",
    "  geom_bar(stat = \"identity\") +\n",
    "  labs(title = \"Compare Proportion of Fasting Blood Sugar > 120 mg/dl\",\n",
    "       x = \"Fasting Blood Sugar > 120 mg/dl\", \n",
    "       y = \"Proportion\",\n",
    "       fill = \"Diagnosis of Heart Disease\") +\n",
    "       theme(text = element_text(size = 15))\n",
    "fbs_bar\n",
    "\n",
    "cat(\"The proportion of people who has fasting blood sugar > 120 mg/dl is approximatly the same in groups of people who has heart disease\")\n"
   ]
  },
  {
   "cell_type": "markdown",
   "id": "61c368be-63fa-42d9-99d8-dc09e514516b",
   "metadata": {},
   "source": [
    "## Methods (Tom):\n",
    "- Explain how you will conduct either your data analysis and which variables/columns you will use. Note - you do not need to use all variables/columns that exist in the raw data set. In fact, that's often not a good idea. For each variable think: is this a useful variable for prediction?\n",
    "- Describe at least one way that you will visualize the results"
   ]
  },
  {
   "cell_type": "markdown",
   "id": "07e0dcb2-711d-404d-b77c-4659015b3d5b",
   "metadata": {},
   "source": [
    "*METHODS TEXT GOES HERE*"
   ]
  },
  {
   "cell_type": "markdown",
   "id": "6d5013d9-f076-4814-935e-2ace631d8a0c",
   "metadata": {},
   "source": [
    "## Expected outcomes and significance (Michael):\n",
    "- What do you expect to find?\n",
    "- What impact could such findings have?\n",
    "- What future questions could this lead to?"
   ]
  },
  {
   "cell_type": "markdown",
   "id": "adbcfc31-5030-4f80-a038-f47d078081cb",
   "metadata": {},
   "source": [
    "*EXPECTED OUTCOMES TEXT GOES HERE*"
   ]
  },
  {
   "cell_type": "code",
   "execution_count": null,
   "id": "3d607b80-c73c-4b6e-af9a-f9978d681d83",
   "metadata": {},
   "outputs": [],
   "source": []
  }
 ],
 "metadata": {
  "kernelspec": {
   "display_name": "R",
   "language": "R",
   "name": "ir"
  },
  "language_info": {
   "codemirror_mode": "r",
   "file_extension": ".r",
   "mimetype": "text/x-r-source",
   "name": "R",
   "pygments_lexer": "r",
   "version": "4.3.1"
  }
 },
 "nbformat": 4,
 "nbformat_minor": 5
}
