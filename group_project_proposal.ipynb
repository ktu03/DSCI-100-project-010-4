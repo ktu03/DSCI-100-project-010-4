{
 "cells": [
  {
   "cell_type": "markdown",
   "id": "24273aeb-c00b-47cd-9f5b-efc15bf710b5",
   "metadata": {},
   "source": [
    "# Title: Amongst seniors in Hungary and Switzerland, who has healthier hearts?"
   ]
  },
  {
   "cell_type": "markdown",
   "id": "4e070bfe-953f-43b5-8d03-eb99ea88d69f",
   "metadata": {},
   "source": [
    "## Introduction (Kevin)\n",
    "- Provide some relevant background information on the topic so that someone unfamiliar with it will be prepared to understand the rest of your proposal\n",
    "- Clearly state the question you will try to answer with your project\n",
    "- Identify and describe the dataset that will be used to answer the question\n"
   ]
  },
  {
   "cell_type": "markdown",
   "id": "e95f1331-6a4e-4286-9a0b-4d41b1a35b34",
   "metadata": {},
   "source": [
    "*INTRO TEXT GOES HERE*"
   ]
  },
  {
   "cell_type": "markdown",
   "id": "7fdd0bb1-ff54-4b03-b819-0dfc25b18071",
   "metadata": {},
   "source": [
    "## Preliminary exploratory data analysis (Chloe)\n",
    "- Demonstrate that the dataset can be read from the web into R \n",
    "- Clean and wrangle your data into a tidy format\n",
    "- Using only training data, summarize the data in at least one table (this is exploratory data analysis). An example of a useful table could be one that reports the number of observations in each class, the means of the predictor variables you plan to use in your analysis and how many rows have missing data. \n",
    "- Using only training data, visualize the data with at least one plot relevant to the analysis you plan to do (this is exploratory data analysis). An example of a useful visualization could be one that compares the distributions of each of the predictor variables you plan to use in your analysis."
   ]
  },
  {
   "cell_type": "code",
   "execution_count": 3,
   "id": "4cf4135c-95b1-4eb2-ad15-d0b25fd0bd5f",
   "metadata": {},
   "outputs": [],
   "source": [
    "#PRELIMINARY EXPLORATORY DATA ANALYSIS CODE HERE"
   ]
  },
  {
   "cell_type": "markdown",
   "id": "61c368be-63fa-42d9-99d8-dc09e514516b",
   "metadata": {},
   "source": [
    "## Methods (Tom):\n",
    "- Explain how you will conduct either your data analysis and which variables/columns you will use. Note - you do not need to use all variables/columns that exist in the raw data set. In fact, that's often not a good idea. For each variable think: is this a useful variable for prediction?\n",
    "- Describe at least one way that you will visualize the results"
   ]
  },
  {
   "cell_type": "markdown",
   "id": "07e0dcb2-711d-404d-b77c-4659015b3d5b",
   "metadata": {},
   "source": [
    "*METHODS TEXT GOES SURE*"
   ]
  },
  {
   "cell_type": "markdown",
   "id": "6d5013d9-f076-4814-935e-2ace631d8a0c",
   "metadata": {},
   "source": [
    "## Expected outcomes and significance (Michael):\n",
    "- What do you expect to find?\n",
    "- What impact could such findings have?\n",
    "- What future questions could this lead to?"
   ]
  },
  {
   "cell_type": "markdown",
   "id": "adbcfc31-5030-4f80-a038-f47d078081cb",
   "metadata": {},
   "source": [
    "*EXPECTED OUTCOMES TEXT GOES HERE*"
   ]
  },
  {
   "cell_type": "code",
   "execution_count": null,
   "id": "3d607b80-c73c-4b6e-af9a-f9978d681d83",
   "metadata": {},
   "outputs": [],
   "source": []
  }
 ],
 "metadata": {
  "kernelspec": {
   "display_name": "Python 3 (ipykernel)",
   "language": "python",
   "name": "python3"
  },
  "language_info": {
   "codemirror_mode": {
    "name": "ipython",
    "version": 3
   },
   "file_extension": ".py",
   "mimetype": "text/x-python",
   "name": "python",
   "nbconvert_exporter": "python",
   "pygments_lexer": "ipython3",
   "version": "3.11.6"
  }
 },
 "nbformat": 4,
 "nbformat_minor": 5
}
